{
 "cells": [
  {
   "cell_type": "markdown",
   "metadata": {},
   "source": [
    "## Generators vs regular functions (or yield vs return) - basics"
   ]
  },
  {
   "cell_type": "markdown",
   "metadata": {},
   "source": [
    "From python.org (https://docs.python.org/3/howto/functional.html):\n",
    "\n",
    "__Generators__ are a special class of __functions__ that simplify the task of writing iterators.\n",
    "\n",
    "__Regular__ functions compute a value and return it, but __generators__ return an __iterator__ that returns a stream of values.\n",
    "\n",
    "An __iterator__ is an object representing a stream of data; this object returns the data one element at a time. \n",
    "\n",
    "Generators are also supported by other langues, for example C#: \n",
    "https://docs.microsoft.com/en-us/dotnet/csharp/language-reference/keywords/yield"
   ]
  },
  {
   "cell_type": "markdown",
   "metadata": {},
   "source": [
    "### Generator basics"
   ]
  },
  {
   "cell_type": "code",
   "execution_count": 9,
   "metadata": {},
   "outputs": [],
   "source": [
    "def example_generator():\n",
    "    # use yield instead of return to turn a function into a generator.\n",
    "    yield 1\n",
    "    yield 2\n",
    "    yield 30\n"
   ]
  },
  {
   "cell_type": "code",
   "execution_count": 2,
   "metadata": {},
   "outputs": [
    {
     "name": "stdout",
     "output_type": "stream",
     "text": [
      "<generator object example_generator at 0x000002822AFC87C8>\n"
     ]
    }
   ],
   "source": [
    "# a generator function returns an object\n",
    "g = example_generator()\n",
    "print(g)"
   ]
  },
  {
   "cell_type": "code",
   "execution_count": 3,
   "metadata": {},
   "outputs": [
    {
     "name": "stdout",
     "output_type": "stream",
     "text": [
      "1\n"
     ]
    }
   ],
   "source": [
    "# read out the first value\n",
    "n = next(g)\n",
    "print(n)"
   ]
  },
  {
   "cell_type": "code",
   "execution_count": 4,
   "metadata": {},
   "outputs": [
    {
     "name": "stdout",
     "output_type": "stream",
     "text": [
      "2\n",
      "30\n"
     ]
    }
   ],
   "source": [
    "# continue\n",
    "n = next(g)\n",
    "print(n) # 2\n",
    "n = next(g)\n",
    "print(n) # 30\n"
   ]
  },
  {
   "cell_type": "code",
   "execution_count": 5,
   "metadata": {},
   "outputs": [
    {
     "ename": "StopIteration",
     "evalue": "",
     "output_type": "error",
     "traceback": [
      "\u001b[1;31m---------------------------------------------------------------------------\u001b[0m",
      "\u001b[1;31mStopIteration\u001b[0m                             Traceback (most recent call last)",
      "\u001b[1;32m<ipython-input-5-05a18ea20d72>\u001b[0m in \u001b[0;36m<module>\u001b[1;34m\u001b[0m\n\u001b[0;32m      1\u001b[0m \u001b[1;31m# what will happen when there are no more values?\u001b[0m\u001b[1;33m\u001b[0m\u001b[1;33m\u001b[0m\u001b[1;33m\u001b[0m\u001b[0m\n\u001b[1;32m----> 2\u001b[1;33m \u001b[0mn\u001b[0m \u001b[1;33m=\u001b[0m \u001b[0mnext\u001b[0m\u001b[1;33m(\u001b[0m\u001b[0mg\u001b[0m\u001b[1;33m)\u001b[0m \u001b[1;31m# ?\u001b[0m\u001b[1;33m\u001b[0m\u001b[1;33m\u001b[0m\u001b[0m\n\u001b[0m\u001b[0;32m      3\u001b[0m \u001b[0mprint\u001b[0m\u001b[1;33m(\u001b[0m\u001b[0mn\u001b[0m\u001b[1;33m)\u001b[0m\u001b[1;33m\u001b[0m\u001b[1;33m\u001b[0m\u001b[0m\n",
      "\u001b[1;31mStopIteration\u001b[0m: "
     ]
    }
   ],
   "source": [
    "# what will happen when there are no more values?\n",
    "n = next(g) # ?\n",
    "print(n)"
   ]
  },
  {
   "cell_type": "code",
   "execution_count": 41,
   "metadata": {},
   "outputs": [
    {
     "name": "stdout",
     "output_type": "stream",
     "text": [
      "1\n",
      "2\n",
      "30\n"
     ]
    }
   ],
   "source": [
    "# normal use is in a for loop.\n",
    "# a for loop iterates over the values that the generator returns.\n",
    "for value in example_generator():\n",
    "    print(value)"
   ]
  },
  {
   "cell_type": "markdown",
   "metadata": {},
   "source": [
    "## Example - counting word lengths\n",
    "\n",
    "In this example we want to write a function that will count the length of each word in a sentence and returns the length to the caller. The words are seperated by spaces."
   ]
  },
  {
   "cell_type": "code",
   "execution_count": 1,
   "metadata": {},
   "outputs": [],
   "source": [
    "# Define the example sentence\n",
    "words = 'this is a sentence to test the word count functions'"
   ]
  },
  {
   "cell_type": "markdown",
   "metadata": {},
   "source": [
    "### Count word lengths function with return"
   ]
  },
  {
   "cell_type": "code",
   "execution_count": 6,
   "metadata": {},
   "outputs": [],
   "source": [
    "def count_word_lengths(sentence):\n",
    "    # define a list for storing the length of each word\n",
    "    word_lengths = list()\n",
    "    \n",
    "    for word in sentence.split():\n",
    "        # Add each word length to the list\n",
    "        word_lengths.append(len(word))\n",
    "    return word_lengths\n"
   ]
  },
  {
   "cell_type": "code",
   "execution_count": 7,
   "metadata": {},
   "outputs": [
    {
     "name": "stdout",
     "output_type": "stream",
     "text": [
      "[4, 2, 1, 8, 2, 4, 3, 4, 5, 9]\n"
     ]
    }
   ],
   "source": [
    "print(count_word_lengths(words))\n"
   ]
  },
  {
   "cell_type": "markdown",
   "metadata": {},
   "source": [
    "### Count word lengths function with a generator function"
   ]
  },
  {
   "cell_type": "code",
   "execution_count": 11,
   "metadata": {},
   "outputs": [],
   "source": [
    "def count_word_lengths_yield(sentence):\n",
    "    for word in sentence.split():\n",
    "        # no intermediate storage needed. \n",
    "        # saves two statements. this also makes the intent of the function clearer.\n",
    "        yield len(word)\n"
   ]
  },
  {
   "cell_type": "markdown",
   "metadata": {},
   "source": [
    "When calling the function you get a generator instead of a list."
   ]
  },
  {
   "cell_type": "code",
   "execution_count": 12,
   "metadata": {},
   "outputs": [
    {
     "name": "stdout",
     "output_type": "stream",
     "text": [
      "<generator object count_word_lengths_yield at 0x00000216E80337C8>\n"
     ]
    }
   ],
   "source": [
    "print(count_word_lengths_yield(words))"
   ]
  },
  {
   "cell_type": "markdown",
   "metadata": {},
   "source": [
    "It is still possible to convert this to a list using the list() function."
   ]
  },
  {
   "cell_type": "code",
   "execution_count": 13,
   "metadata": {},
   "outputs": [
    {
     "name": "stdout",
     "output_type": "stream",
     "text": [
      "[4, 2, 1, 8, 2, 4, 3, 4, 5, 9]\n"
     ]
    }
   ],
   "source": [
    "print(list(count_word_lengths_yield(words)))"
   ]
  },
  {
   "cell_type": "markdown",
   "metadata": {},
   "source": [
    "### Using map to count word lengths"
   ]
  },
  {
   "cell_type": "markdown",
   "metadata": {},
   "source": [
    "In this case also useful is a more functional style using the 'map' function. Map executes a function for each element in a stream. In this case the 'len' function is used.\n",
    "\n",
    "Note: Pandas has a 'map' method as well that can be called on a Pandas Series object (https://pandas.pydata.org/pandas-docs/stable/reference/api/pandas.Series.map.html)."
   ]
  },
  {
   "cell_type": "code",
   "execution_count": 16,
   "metadata": {},
   "outputs": [
    {
     "name": "stdout",
     "output_type": "stream",
     "text": [
      "[4, 2, 1, 8, 2, 4, 3, 4, 5, 9]\n"
     ]
    }
   ],
   "source": [
    "# this gives the same result as the previous examples.\n",
    "print(list(map(len, words.split())))"
   ]
  },
  {
   "cell_type": "markdown",
   "metadata": {},
   "source": [
    "## Usage of word lengths\n",
    "For example find large words.\n",
    "iterate over list/sequence"
   ]
  },
  {
   "cell_type": "code",
   "execution_count": 20,
   "metadata": {},
   "outputs": [],
   "source": [
    "def count_large_words(word_counter, sentence, max_length):\n",
    "    cnt = 0\n",
    "    \n",
    "    # you can use the 'for .. in' for iterating over both lists and generators.\n",
    "    for word_length in word_counter(sentence):\n",
    "        if word_length > max_length:\n",
    "            cnt += 1\n",
    "    return cnt"
   ]
  },
  {
   "cell_type": "code",
   "execution_count": 21,
   "metadata": {},
   "outputs": [
    {
     "name": "stdout",
     "output_type": "stream",
     "text": [
      "3\n"
     ]
    }
   ],
   "source": [
    "# use the return version to count the word lengths\n",
    "\n",
    "cnt = count_large_words(count_word_lengths, words, 4)\n",
    "print(cnt)"
   ]
  },
  {
   "cell_type": "code",
   "execution_count": 38,
   "metadata": {},
   "outputs": [
    {
     "name": "stdout",
     "output_type": "stream",
     "text": [
      "3\n"
     ]
    }
   ],
   "source": [
    "# using the yield version gives the same result, but in the generator\n",
    "# needs less storage.\n",
    "\n",
    "cnt = count_large_words(count_word_lengths_yield, words, 4)\n",
    "print(cnt)\n",
    "\n"
   ]
  },
  {
   "cell_type": "code",
   "execution_count": 24,
   "metadata": {},
   "outputs": [
    {
     "name": "stdout",
     "output_type": "stream",
     "text": [
      "3\n"
     ]
    }
   ],
   "source": [
    "# using a one liner :)\n",
    "# this is less readable in my opinion in Python\n",
    "cnt = len(list(filter(lambda x: x > 4, map(len, words.split()))))\n",
    "print(cnt)"
   ]
  },
  {
   "cell_type": "code",
   "execution_count": 7,
   "metadata": {},
   "outputs": [
    {
     "name": "stdout",
     "output_type": "stream",
     "text": [
      "3\n"
     ]
    }
   ],
   "source": [
    "# using functools and reduce.\n",
    "import functools\n",
    "\n",
    "cnt = functools.reduce(lambda x, y: x + 1 if len(y) > 4 else x, words.split(), 0)\n",
    "print(cnt)"
   ]
  },
  {
   "cell_type": "markdown",
   "metadata": {},
   "source": [
    "### Infinite sequences\n",
    "\n",
    "A generator can also be used to simulate an infinite sequence of values. For example prime numbers, random numbers etc. Below an example of random x,y coordinates."
   ]
  },
  {
   "cell_type": "code",
   "execution_count": 27,
   "metadata": {},
   "outputs": [],
   "source": [
    "import random\n",
    "\n",
    "\n",
    "def rnd_coordinates(size_x, size_y):\n",
    "        random.seed()\n",
    "        while True:\n",
    "            yield (random.randint(0, size_x - 1), random.randint(0, size_y - 1))\n"
   ]
  },
  {
   "cell_type": "code",
   "execution_count": 30,
   "metadata": {},
   "outputs": [
    {
     "name": "stdout",
     "output_type": "stream",
     "text": [
      "(9, 9)\n",
      "(20, 33)\n",
      "(21, 7)\n",
      "(40, 48)\n",
      "(22, 5)\n",
      "(10, 45)\n",
      "(42, 2)\n",
      "(32, 49)\n",
      "(1, 30)\n",
      "(33, 46)\n"
     ]
    }
   ],
   "source": [
    "import itertools\n",
    "\n",
    "# get 10 random coordinates.\n",
    "for coord in itertools.islice(rnd_coordinates(50, 50), 10):\n",
    "    print(coord)"
   ]
  }
 ],
 "metadata": {
  "kernelspec": {
   "display_name": "Python 3",
   "language": "python",
   "name": "python3"
  },
  "language_info": {
   "codemirror_mode": {
    "name": "ipython",
    "version": 3
   },
   "file_extension": ".py",
   "mimetype": "text/x-python",
   "name": "python",
   "nbconvert_exporter": "python",
   "pygments_lexer": "ipython3",
   "version": "3.7.3"
  }
 },
 "nbformat": 4,
 "nbformat_minor": 2
}
